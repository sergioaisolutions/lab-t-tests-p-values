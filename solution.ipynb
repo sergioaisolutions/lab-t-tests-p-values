{
 "cells": [
  {
   "cell_type": "markdown",
   "source": [
    "## IMPORTING THE REQUIRED LIBRARIES"
   ],
   "metadata": {}
  },
  {
   "cell_type": "code",
   "execution_count": 87,
   "source": [
    "import pandas as pd\r\n",
    "import scipy.stats as st"
   ],
   "outputs": [],
   "metadata": {}
  },
  {
   "cell_type": "markdown",
   "source": [
    "## IMPORTING THE MACHINES DATA"
   ],
   "metadata": {}
  },
  {
   "cell_type": "code",
   "execution_count": 84,
   "source": [
    "machines = pd.read_csv('files_for_lab/machines.csv', sep = ';')"
   ],
   "outputs": [],
   "metadata": {}
  },
  {
   "cell_type": "markdown",
   "source": [
    "## FIRST HYPOTHESIS - IS ANY DIFFERENCE BETWEEN THE TIMES "
   ],
   "metadata": {}
  },
  {
   "cell_type": "code",
   "execution_count": 91,
   "source": [
    "old_machines_avg_time = machines['old_machine'].mean()\r\n",
    "p_value = st.ttest_1samp(machines['new_machine'], old_machines_avg_time)[1]\r\n",
    "print(f'\\nFIRST HYPOTHESIS P-VALUE -> {round(p_value, 4)}')"
   ],
   "outputs": [
    {
     "output_type": "stream",
     "name": "stdout",
     "text": [
      "\n",
      "FIRST HYPOTHESIS P-VALUE -> 0.0007\n"
     ]
    }
   ],
   "metadata": {}
  },
  {
   "cell_type": "markdown",
   "source": [
    "## RESULTS OF THE HYPOTHESIS 1\r\n",
    "------------------------------\r\n"
   ],
   "metadata": {}
  },
  {
   "cell_type": "markdown",
   "source": [
    "#### - H0 -> THE VALUES OF THE TIME FOR THE NEW MACHINES ARE THE SAME AS THE ONES FOR THE OLD MACHINES\r\n",
    "#### - H1 -> WE ARE REJECTING H0, SO THE VALUES OF THE TIME FOR THE NEW MACHINES ARE NOT THE SAME\r\n",
    "#### - P-VAUE -> 0.0007 < 0.05. WE REJECT THE H0 (TIME VALUES FOR OLD MACHINES AND NEW ONES ARE NOT THE SAME)"
   ],
   "metadata": {}
  },
  {
   "cell_type": "markdown",
   "source": [
    "## IMPORTING THE POKEMON DATA"
   ],
   "metadata": {}
  },
  {
   "cell_type": "code",
   "execution_count": 92,
   "source": [
    "pokemons = pd.read_csv('files_for_lab/pokemon.csv')"
   ],
   "outputs": [],
   "metadata": {}
  },
  {
   "cell_type": "markdown",
   "source": [
    "## SECOND HYPOTHESIS - IS ANY DIFFERENCE BETWEEN THE THE ATTACK AND THE DEFENCE SCORES?"
   ],
   "metadata": {}
  },
  {
   "cell_type": "code",
   "execution_count": 98,
   "source": [
    "p_value_2 = st.ttest_rel(pokemons['Attack'], pokemons['Defense'])[1]\r\n",
    "print(f'\\nSECOND HYPOTHESIS P-VALUE -> {round(p_value_2, 5)}')"
   ],
   "outputs": [
    {
     "output_type": "stream",
     "name": "stdout",
     "text": [
      "\n",
      "SECOND HYPOTHESIS P-VALUE -> 2e-05\n"
     ]
    }
   ],
   "metadata": {}
  },
  {
   "cell_type": "markdown",
   "source": [
    "## RESULTS OF THE HYPOTHESIS 2\r\n",
    "------------------------------"
   ],
   "metadata": {}
  },
  {
   "cell_type": "markdown",
   "source": [
    "#### - H0 -> THE VALUES OF THE ATTACK AND DEFENSE COLUMNS ARE THE SAME.\r\n",
    "#### - H1 -> WE ARE REJECTING H0, SO THE VALUES OF THE ATTACK AND THE DEFENSE ARE DIFFERENT.\r\n",
    "#### - P-VAUE -> 2e-05 < 0.05. WE REJECT THE H0 (THE VALUES OF THE ATTACK AND DEFENSE ARE NOT THE SAME)"
   ],
   "metadata": {}
  }
 ],
 "metadata": {
  "orig_nbformat": 4,
  "language_info": {
   "name": "python",
   "version": "3.7.6",
   "mimetype": "text/x-python",
   "codemirror_mode": {
    "name": "ipython",
    "version": 3
   },
   "pygments_lexer": "ipython3",
   "nbconvert_exporter": "python",
   "file_extension": ".py"
  },
  "kernelspec": {
   "name": "python3",
   "display_name": "Python 3.7.6 64-bit ('ironhack_environment': venv)"
  },
  "interpreter": {
   "hash": "df81bf56b2521791aaa0ff1ac8d57256f917b61d33ad24d6b6d13191d105bbf2"
  }
 },
 "nbformat": 4,
 "nbformat_minor": 2
}